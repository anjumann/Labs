{
 "cells": [
  {
   "cell_type": "code",
   "execution_count": 4,
   "id": "75a1c301",
   "metadata": {},
   "outputs": [
    {
     "name": "stdout",
     "output_type": "stream",
     "text": [
      "Enter the no of the frames 4\n",
      "Enter frames  no. --> 1\n",
      "Hello\n",
      "Enter frames  no. --> 2\n",
      "World\n",
      "Enter frames  no. --> 3\n",
      "from\n",
      "Enter frames  no. --> 4\n",
      "anjuman\n",
      "no. of bytes (sender) --> 21\n",
      "sending message  ['Hello', 'World', 'from', 'anjuman']\n",
      "no. of bytes (reciever) -->  21\n",
      "recieved frames\n",
      "Hello\n",
      "World\n",
      "from\n",
      "anjuman\n",
      "\n"
     ]
    }
   ],
   "source": [
    "res = []\n",
    "total_frame_size = 0\n",
    "\n",
    "def sender():\n",
    "    global total_frame_size\n",
    "    a = int(input('Enter the no of the frames '))\n",
    "    for i in range (0,a):\n",
    "        print('Enter frames  no. -->',i+1)\n",
    "        str = input()\n",
    "        res.append(str)\n",
    "        local_frame_size= len(str)\n",
    "        total_frame_size=total_frame_size+local_frame_size\n",
    "        \n",
    "    print('no. of bytes (sender) -->', total_frame_size)    \n",
    "    print('sending message ',res)\n",
    "\n",
    "def reciever():\n",
    "    print('no. of bytes (reciever) --> ', total_frame_size)\n",
    "    print('recieved frames')\n",
    "    for x in res :\n",
    "        print(x) \n",
    "    print('') \n",
    "    \n",
    "\n",
    "sender()\n",
    "reciever()"
   ]
  },
  {
   "cell_type": "code",
   "execution_count": null,
   "id": "90f39e54",
   "metadata": {},
   "outputs": [],
   "source": []
  }
 ],
 "metadata": {
  "kernelspec": {
   "display_name": "Python 3 (ipykernel)",
   "language": "python",
   "name": "python3"
  },
  "language_info": {
   "codemirror_mode": {
    "name": "ipython",
    "version": 3
   },
   "file_extension": ".py",
   "mimetype": "text/x-python",
   "name": "python",
   "nbconvert_exporter": "python",
   "pygments_lexer": "ipython3",
   "version": "3.11.1"
  }
 },
 "nbformat": 4,
 "nbformat_minor": 5
}
