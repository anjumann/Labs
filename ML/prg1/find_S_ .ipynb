{
 "cells": [
  {
   "cell_type": "code",
   "execution_count": null,
   "id": "2cbce967",
   "metadata": {},
   "outputs": [],
   "source": [
    "import pandas as pd\n",
    "import numpy as np"
   ]
  },
  {
   "cell_type": "markdown",
   "id": "16d952cb",
   "metadata": {},
   "source": [
    "### importing CSV file"
   ]
  },
  {
   "cell_type": "code",
   "execution_count": null,
   "id": "555c67d8",
   "metadata": {},
   "outputs": [],
   "source": [
    "data = pd.read_csv('enjoy sport.csv')\n",
    "print(data)"
   ]
  },
  {
   "cell_type": "markdown",
   "id": "249ed056",
   "metadata": {},
   "source": [
    "### converting to array with only attributes "
   ]
  },
  {
   "cell_type": "code",
   "execution_count": null,
   "id": "6a629560",
   "metadata": {},
   "outputs": [],
   "source": [
    "d = np.array(data)[:,:-1]\n",
    "print( \"the attribute are :\", d)"
   ]
  },
  {
   "cell_type": "code",
   "execution_count": null,
   "id": "d3592418",
   "metadata": {},
   "outputs": [],
   "source": [
    "target = np.array(data)[:,-1]\n",
    "print( \"the target are :\", target)\n"
   ]
  },
  {
   "cell_type": "markdown",
   "id": "a0aa9085",
   "metadata": {},
   "source": [
    "### function"
   ]
  },
  {
   "cell_type": "code",
   "execution_count": null,
   "id": "e71b366e",
   "metadata": {},
   "outputs": [],
   "source": [
    "def train(c,t):\n",
    "    for i, val in enumerate(t):\n",
    "        if val == \"Yes\":\n",
    "            specific_hypothesis = c[i].copy()\n",
    "            break\n",
    "             \n",
    "    for i, val in enumerate(c):\n",
    "        if t[i] == \"Yes\":\n",
    "            for x in range(len(specific_hypothesis)):\n",
    "                if val[x] != specific_hypothesis[x]:\n",
    "                    specific_hypothesis[x] = '?'\n",
    "                else:\n",
    "                    pass\n",
    "                 \n",
    "    return specific_hypothesis"
   ]
  },
  {
   "cell_type": "code",
   "execution_count": null,
   "id": "786d390b",
   "metadata": {},
   "outputs": [],
   "source": [
    "print( \"the final hypothesis is :\", train(d, target))\n",
    "\n",
    "\n"
   ]
  },
  {
   "cell_type": "code",
   "execution_count": null,
   "id": "fa693837",
   "metadata": {},
   "outputs": [],
   "source": []
  }
 ],
 "metadata": {
  "kernelspec": {
   "display_name": "Python 3 (ipykernel)",
   "language": "python",
   "name": "python3"
  },
  "language_info": {
   "codemirror_mode": {
    "name": "ipython",
    "version": 3
   },
   "file_extension": ".py",
   "mimetype": "text/x-python",
   "name": "python",
   "nbconvert_exporter": "python",
   "pygments_lexer": "ipython3",
   "version": "3.11.1"
  },
  "vscode": {
   "interpreter": {
    "hash": "fc058b7da0ac6bf4f0eac5d6602a78ccbd29d4b405c5579490c49f0f9ad4a44e"
   }
  }
 },
 "nbformat": 4,
 "nbformat_minor": 5
}
