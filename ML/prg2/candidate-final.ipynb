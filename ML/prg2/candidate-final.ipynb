{
 "cells": [
  {
   "cell_type": "code",
   "execution_count": 1,
   "id": "e1bfb393",
   "metadata": {},
   "outputs": [
    {
     "name": "stdout",
     "output_type": "stream",
     "text": [
      "\n",
      "Instances are:\n",
      "\n",
      " [['Sunny' 'Warm' 'Normal' 'Strong' 'Warm' 'Same']\n",
      " ['Sunny' 'Warm' 'High' 'Strong' 'Warm' 'Same']\n",
      " ['Rain' 'Cold' 'High' 'Strong' 'Warm' 'Change']\n",
      " ['Sunny' 'Warm' 'High' 'Strong' 'Cool' 'Change']]\n",
      "\n",
      "Target Values are:  ['Yes' 'Yes' 'No' 'Yes']\n"
     ]
    }
   ],
   "source": [
    "import numpy as np\n",
    "import pandas as pd\n",
    "data = pd.read_csv('enjoy sport.csv')\n",
    "concepts = np.array(data.iloc[:,0:-1])\n",
    "print(\"\\nInstances are:\\n\\n\",concepts)\n",
    "target = np.array(data.iloc[:,-1])\n",
    "print(\"\\nTarget Values are: \",target)"
   ]
  },
  {
   "cell_type": "code",
   "execution_count": 2,
   "id": "6278d9be",
   "metadata": {},
   "outputs": [
    {
     "name": "stdout",
     "output_type": "stream",
     "text": [
      "\n",
      "Initialization of specific_h and genearal_h\n",
      "\n",
      "Specific Boundary:\n",
      " ['Sunny' 'Warm' 'Normal' 'Strong' 'Warm' 'Same']\n",
      "\n",
      "Generic Boundary:\n",
      " [['?', '?', '?', '?', '?', '?'], ['?', '?', '?', '?', '?', '?'], ['?', '?', '?', '?', '?', '?'], ['?', '?', '?', '?', '?', '?'], ['?', '?', '?', '?', '?', '?'], ['?', '?', '?', '?', '?', '?']]\n",
      "Instance 1 is  ['Sunny' 'Warm' 'Normal' 'Strong' 'Warm' 'Same']\n",
      "Instance is Positive \n",
      "Specific Bundary after  1 Instance is  ['Sunny' 'Warm' 'Normal' 'Strong' 'Warm' 'Same']\n",
      "Generic Boundary after  1 Instance is  [['?', '?', '?', '?', '?', '?'], ['?', '?', '?', '?', '?', '?'], ['?', '?', '?', '?', '?', '?'], ['?', '?', '?', '?', '?', '?'], ['?', '?', '?', '?', '?', '?'], ['?', '?', '?', '?', '?', '?']]\n",
      "\n",
      "\n",
      "Instance 2 is  ['Sunny' 'Warm' 'High' 'Strong' 'Warm' 'Same']\n",
      "Instance is Positive \n",
      "Specific Bundary after  2 Instance is  ['Sunny' 'Warm' '?' 'Strong' 'Warm' 'Same']\n",
      "Generic Boundary after  2 Instance is  [['?', '?', '?', '?', '?', '?'], ['?', '?', '?', '?', '?', '?'], ['?', '?', '?', '?', '?', '?'], ['?', '?', '?', '?', '?', '?'], ['?', '?', '?', '?', '?', '?'], ['?', '?', '?', '?', '?', '?']]\n",
      "\n",
      "\n",
      "Instance 3 is  ['Rain' 'Cold' 'High' 'Strong' 'Warm' 'Change']\n",
      "Instance is Negative \n",
      "Specific Bundary after  3 Instance is  ['Sunny' 'Warm' '?' 'Strong' 'Warm' 'Same']\n",
      "Generic Boundary after  3 Instance is  [['Sunny', '?', '?', '?', '?', '?'], ['?', 'Warm', '?', '?', '?', '?'], ['?', '?', '?', '?', '?', '?'], ['?', '?', '?', '?', '?', '?'], ['?', '?', '?', '?', '?', '?'], ['?', '?', '?', '?', '?', 'Same']]\n",
      "\n",
      "\n",
      "Instance 4 is  ['Sunny' 'Warm' 'High' 'Strong' 'Cool' 'Change']\n",
      "Instance is Positive \n",
      "Specific Bundary after  4 Instance is  ['Sunny' 'Warm' '?' 'Strong' '?' '?']\n",
      "Generic Boundary after  4 Instance is  [['Sunny', '?', '?', '?', '?', '?'], ['?', 'Warm', '?', '?', '?', '?'], ['?', '?', '?', '?', '?', '?'], ['?', '?', '?', '?', '?', '?'], ['?', '?', '?', '?', '?', '?'], ['?', '?', '?', '?', '?', '?']]\n",
      "\n",
      "\n"
     ]
    }
   ],
   "source": [
    "def learn(concepts, target):\n",
    "  specific_h = concepts[0].copy()\n",
    "  print(\"\\nInitialization of specific_h and genearal_h\")\n",
    "  print(\"\\nSpecific Boundary:\\n\", specific_h)\n",
    "  general_h = [[\"?\" for i in range(len(specific_h))] for i in range(len(specific_h))]\n",
    "  print(\"\\nGeneric Boundary:\\n\",general_h)\n",
    "  for i, h in enumerate(concepts):\n",
    "    print(\"Instance\", i+1 , \"is \", h)\n",
    "    if target[i] == \"Yes\":\n",
    "      print(\"Instance is Positive \")\n",
    "      for x in range(len(specific_h)):\n",
    "        if h[x]!= specific_h[x]:\n",
    "          specific_h[x] ='?'\n",
    "          general_h[x][x] ='?'\n",
    "    if target[i] == \"No\":\n",
    "      print(\"Instance is Negative \")\n",
    "      for x in range(len(specific_h)):\n",
    "        if h[x]!= specific_h[x]:\n",
    "          general_h[x][x] = specific_h[x]\n",
    "        else:\n",
    "          general_h[x][x] = '?'\n",
    "    print(\"Specific Bundary after \", i+1, \"Instance is \", specific_h)\n",
    "    print(\"Generic Boundary after \", i+1, \"Instance is \", general_h)\n",
    "    print(\"\\n\")\n",
    "  indices = [i for i, val in enumerate(general_h) if val == ['?', '?', '?', '?', '?', '?']]\n",
    "  for i in indices:\n",
    "    general_h.remove(['?', '?', '?', '?', '?', '?'])\n",
    "    return specific_h, general_h\n",
    "\n",
    "s_final, g_final = learn(concepts, target)\n",
    "\n"
   ]
  },
  {
   "cell_type": "code",
   "execution_count": 3,
   "id": "e2833c61",
   "metadata": {},
   "outputs": [
    {
     "name": "stdout",
     "output_type": "stream",
     "text": [
      "Final Specific_h:\n",
      "['Sunny' 'Warm' '?' 'Strong' '?' '?']\n",
      "Final General_h:\n",
      "[['Sunny', '?', '?', '?', '?', '?'], ['?', 'Warm', '?', '?', '?', '?'], ['?', '?', '?', '?', '?', '?'], ['?', '?', '?', '?', '?', '?'], ['?', '?', '?', '?', '?', '?']]\n"
     ]
    }
   ],
   "source": [
    "print(\"Final Specific_h:\",s_final,sep=\"\\n\")\n",
    "print(\"Final General_h:\",g_final,sep=\"\\n\")"
   ]
  },
  {
   "cell_type": "code",
   "execution_count": null,
   "id": "b24cb174",
   "metadata": {},
   "outputs": [],
   "source": []
  }
 ],
 "metadata": {
  "kernelspec": {
   "display_name": "Python 3 (ipykernel)",
   "language": "python",
   "name": "python3"
  },
  "language_info": {
   "codemirror_mode": {
    "name": "ipython",
    "version": 3
   },
   "file_extension": ".py",
   "mimetype": "text/x-python",
   "name": "python",
   "nbconvert_exporter": "python",
   "pygments_lexer": "ipython3",
   "version": "3.11.1"
  },
  "vscode": {
   "interpreter": {
    "hash": "fc058b7da0ac6bf4f0eac5d6602a78ccbd29d4b405c5579490c49f0f9ad4a44e"
   }
  }
 },
 "nbformat": 4,
 "nbformat_minor": 5
}
