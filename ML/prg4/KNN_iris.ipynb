{
 "cells": [
  {
   "cell_type": "code",
   "execution_count": 2,
   "metadata": {},
   "outputs": [],
   "source": [
    "from sklearn import datasets\n",
    "from sklearn.model_selection import train_test_split\n",
    "from sklearn.metrics import classification_report, confusion_matrix\n",
    "\n",
    "import numpy as np\n",
    "import matplotlib.pyplot as plt\n",
    "\n",
    "from KNN import k_nearest_neighbors\n",
    "iris_data = datasets.load_iris()\n",
    "data = iris_data.data\n",
    "target = iris_data.target"
   ]
  },
  {
   "cell_type": "code",
   "execution_count": 4,
   "metadata": {},
   "outputs": [
    {
     "name": "stdout",
     "output_type": "stream",
     "text": [
      "train instances: 105\n",
      "test instances 45\n"
     ]
    }
   ],
   "source": [
    "X_train, X_test, Y_train, Y_test = train_test_split(data, target, test_size=0.3)\n",
    "print(\"train instances:\", len(X_train)) \n",
    "print( \"test instances\", len(X_test))"
   ]
  },
  {
   "cell_type": "code",
   "execution_count": 5,
   "metadata": {},
   "outputs": [],
   "source": [
    "my_model = k_nearest_neighbors(k=3)\n",
    "model = my_model.knn_fit(X_train, Y_train)\n",
    "predictions = my_model.knn_predict(X_test)"
   ]
  },
  {
   "cell_type": "code",
   "execution_count": 6,
   "metadata": {},
   "outputs": [
    {
     "name": "stdout",
     "output_type": "stream",
     "text": [
      "confusion matrix:\n",
      "[[18  0  0]\n",
      " [ 0 14  1]\n",
      " [ 0  1 11]]\n",
      "Classification report:\n",
      "               precision    recall  f1-score   support\n",
      "\n",
      "           0       1.00      1.00      1.00        18\n",
      "           1       0.93      0.93      0.93        15\n",
      "           2       0.92      0.92      0.92        12\n",
      "\n",
      "    accuracy                           0.96        45\n",
      "   macro avg       0.95      0.95      0.95        45\n",
      "weighted avg       0.96      0.96      0.96        45\n",
      "\n"
     ]
    }
   ],
   "source": [
    "print(\"confusion matrix:\")\n",
    "print(confusion_matrix(Y_test, predictions))\n",
    "print(\"Classification report:\\n\",classification_report(Y_test, predictions))"
   ]
  },
  {
   "cell_type": "code",
   "execution_count": 8,
   "metadata": {},
   "outputs": [
    {
     "data": {
      "image/png": "[encoded data removed]",
      "text/plain": [
       "<Figure size 640x480 with 1 Axes>"
      ]
     },
     "metadata": {},
     "output_type": "display_data"
    }
   ],
   "source": [
    "for class_value in range(3):\n",
    "    row_ix = np.where(predictions== class_value)\n",
    "    row_px = np.where(Y_test == class_value)\n",
    "\n",
    "    if (class_value==0):\n",
    "        m='*'\n",
    "        c='red'\n",
    "    elif(class_value==1):\n",
    "        m='o'\n",
    "        c='green'\n",
    "    elif( class_value==2):\n",
    "        m='x'\n",
    "        c='blue'\n",
    "    plt.scatter(X_test[row_ix, 1], X_test[row_ix,0],marker=m,color=c)"
   ]
  },
  {
   "cell_type": "code",
   "execution_count": null,
   "metadata": {},
   "outputs": [],
   "source": []
  }
 ],
 "metadata": {
  "kernelspec": {
   "display_name": "Python 3",
   "language": "python",
   "name": "python3"
  },
  "language_info": {
   "codemirror_mode": {
    "name": "ipython",
    "version": 3
   },
   "file_extension": ".py",
   "mimetype": "text/x-python",
   "name": "python",
   "nbconvert_exporter": "python",
   "pygments_lexer": "ipython3",
   "version": "3.11.1"
  },
  "orig_nbformat": 4,
  "vscode": {
   "interpreter": {
    "hash": "fc058b7da0ac6bf4f0eac5d6602a78ccbd29d4b405c5579490c49f0f9ad4a44e"
   }
  }
 },
 "nbformat": 4,
 "nbformat_minor": 2
}
